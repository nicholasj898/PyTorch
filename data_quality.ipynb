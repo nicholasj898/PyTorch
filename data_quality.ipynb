{
 "cells": [
  {
   "cell_type": "code",
   "execution_count": null,
   "id": "6efa1dfb-7dea-4685-89d9-18789c94ddd2",
   "metadata": {},
   "outputs": [],
   "source": [
    "import torch\n",
    "import torch.nn as nn\n",
    "import torch.optim as optim\n",
    "import matplotlib.pyplot as plt\n",
    "\n",
    "device = 'cuda' if torch.cuda.is_available() else 'cpu'"
   ]
  },
  {
   "cell_type": "code",
   "execution_count": null,
   "id": "b9adab82-41ee-4569-b4ae-a639e34d1437",
   "metadata": {},
   "outputs": [],
   "source": [
    "X = torch.tensor([[0, 0], [0, 1], [1, 0], [1, 1]], dtype=torch.float32)\n",
    "Y = torch.tensor([[0], [1], [1], [0]], dtype=torch.float32)"
   ]
  },
  {
   "cell_type": "code",
   "execution_count": null,
   "id": "dd2ff278-934a-427d-9047-23c3ada8243c",
   "metadata": {},
   "outputs": [
    {
     "name": "stderr",
     "output_type": "stream",
     "text": [
      "C:\\Users\\nicho\\AppData\\Local\\Temp\\ipykernel_9800\\2019897654.py:19: UserWarning: No artists with labels found to put in legend.  Note that artists whose label start with an underscore are ignored when legend() is called with no argument.\n",
      "  plt.legend()\n"
     ]
    },
    {
     "data": {
      "image/png": "[encoded data removed]",
      "text/plain": [
       "<Figure size 640x480 with 1 Axes>"
      ]
     },
     "metadata": {},
     "output_type": "display_data"
    }
   ],
   "source": [
    "model = nn.Sequential(nn.Linear(2, 2, bias=True), nn.Sigmoid(),\n",
    "                      nn.Linear(2, 1, bias=True), nn.Sigmoid())\n",
    "\n",
    "criterion = torch.nn.BCELoss()\n",
    "optimizer = torch.optim.SGD(model.parameters(), lr=1) \n",
    "losses = []\n",
    "\n",
    "for step in range(2001): \n",
    "    optimizer.zero_grad()\n",
    "    hypothesis = model(X)\n",
    "    cost = criterion(hypothesis, Y)\n",
    "    cost.backward()\n",
    "    optimizer.step()        \n",
    "    losses.append(cost.item())\n",
    "\n",
    "plt.plot(losses)\n",
    "plt.legend()\n",
    "plt.xlabel(\"epoch\")\n",
    "plt.ylabel(\"loss\")\n",
    "plt.show()"
   ]
  },
  {
   "cell_type": "code",
   "execution_count": null,
   "id": "300ee07b-27bf-4c25-b826-b547306db265",
   "metadata": {},
   "outputs": [
    {
     "name": "stdout",
     "output_type": "stream",
     "text": [
      "Predicted:  tensor([[0.0057],\n",
      "        [0.9926],\n",
      "        [0.9926],\n",
      "        [0.0066]], grad_fn=<SigmoidBackward0>)\n",
      "Actual:  tensor([[0.],\n",
      "        [1.],\n",
      "        [1.],\n",
      "        [0.]])\n"
     ]
    }
   ],
   "source": [
    "Y_hat = model(X)\n",
    "print('Predicted: ', Y_hat)\n",
    "print('Actual: ', Y)"
   ]
  },
  {
   "cell_type": "markdown",
   "id": "b748446d-1ee8-4550-ab7c-6dea8937a28b",
   "metadata": {},
   "source": [
    "*** Write down your answer here ***\n",
    "\n",
    "Formula of bias for layer 2\n",
    "\n",
    "$$\\frac{\\partial L}{\\partial b^2} =(\\hat{y} - y)$$\n",
    "\n",
    "Formula of weights of layer 2\n",
    "$$\\frac{\\partial L}{\\partial \\vec{w}^{\\,(2)}} = \\begin{bmatrix}\n",
    "\\frac{\\partial L}{\\partial w^2_{11}}\\\\\n",
    "\\frac{\\partial L}{\\partial w^2_{21}}\n",
    "\\end{bmatrix} = (\\hat{y} - y) \\cdot h^{(1)}$$\n",
    "\n",
    "Formula of biases of layer 1\n",
    "$$\\frac{\\partial L}{\\partial \\vec{b}^{\\,(1)}} =\\begin{bmatrix}\n",
    "\\frac{\\partial L}{\\partial b^1_1}\\\\\n",
    "\\frac{\\partial L}{\\partial b^1_2}\n",
    "\\end{bmatrix} = [ (\\hat{y} - y) \\cdot w^{(2)} \\cdot h^{(1)} \\cdot (1 - h^{(1)}) ]$$\n",
    "\n",
    "Formula of weights of layer 1\n",
    "$$\n",
    "\\frac{\\partial L}{\\partial \\vec{W}^{\\,(1)}} =\\begin{bmatrix}\n",
    "\\frac{\\partial L}{\\partial w^1_{11}} & \\frac{\\partial L}{\\partial w^1_{12}} \\\\\n",
    "\\frac{\\partial L}{\\partial w^1_{21}} & \\frac{\\partial L}{\\partial w^1_{22}}  \n",
    "\\end{bmatrix} = [ (\\hat{y} - y) \\cdot w^{(2)} \\cdot h^{(1)} \\cdot (1 - h^{(1)}) \\cdot x ]$$\n"
   ]
  },
  {
   "cell_type": "code",
   "execution_count": null,
   "id": "2151fbab-a507-40a3-812a-5834dbec7e8c",
   "metadata": {},
   "outputs": [],
   "source": [
    "# multi-layer neural network without using external deep learning libraries"
   ]
  },
  {
   "cell_type": "code",
   "execution_count": 4,
   "id": "50aa53e6-4746-404f-a09e-23823b4b631e",
   "metadata": {},
   "outputs": [],
   "source": [
    "import numpy as n\n",
    "import matplotlib.pyplot as plt"
   ]
  },
  {
   "cell_type": "code",
   "execution_count": 6,
   "id": "e0cf60ff-b7a7-4cc0-a1b1-fc2da26efafc",
   "metadata": {},
   "outputs": [],
   "source": [
    "X = n.array([[0, 0], [0, 1], [1, 0], [1, 1]])\n",
    "Y = n.array([[0], [1], [1], [0]])"
   ]
  },
  {
   "cell_type": "code",
   "execution_count": 7,
   "id": "eddb483a-fc8a-405c-9b3b-eeb92984917c",
   "metadata": {},
   "outputs": [],
   "source": [
    "# Sigmoid\n",
    "def sigmoid(x):\n",
    "    return 1 / (1 + n.exp(-x))"
   ]
  },
  {
   "cell_type": "code",
   "execution_count": 8,
   "id": "32f80182-3051-4d3b-8247-239342f01275",
   "metadata": {},
   "outputs": [],
   "source": [
    "# Derivative of sigmoid\n",
    "def sigmoid_derivative(x):\n",
    "    return x * (1 - x)"
   ]
  },
  {
   "cell_type": "code",
   "execution_count": 9,
   "id": "9ef79d28-5e2f-4f0c-b30a-3ae05989574d",
   "metadata": {},
   "outputs": [],
   "source": [
    "# Binary cross-entropy loss\n",
    "def binary_cross_entropy(y_true, y_pred):\n",
    "    return -(y_true * n.log(y_pred + 1e-9) + (1 - y_true) * n.log(1 - y_pred + 1e-9))"
   ]
  },
  {
   "cell_type": "code",
   "execution_count": 10,
   "id": "27326467-ebec-480e-9ed1-c50c1c68d4d1",
   "metadata": {},
   "outputs": [],
   "source": [
    "# Initialization of weights and biases\n",
    "def initialize_parameters():\n",
    "    weights_hidden = n.array([[0.5, -0.5], [-0.5, 0.5]])\n",
    "    bias_hidden = n.array([0.0, 0.0])\n",
    "    weights_output = n.array([[0.5], [-0.5]])\n",
    "    bias_output = n.array([0.0])\n",
    "    return weights_hidden, bias_hidden, weights_output, bias_output"
   ]
  },
  {
   "cell_type": "code",
   "execution_count": 11,
   "id": "45bc3841-6e7c-4130-af8e-3df48833b36c",
   "metadata": {},
   "outputs": [],
   "source": [
    "# Weights and biases\n",
    "weights_hidden, bias_hidden, weights_output, bias_output = initialize_parameters()\n",
    "\n",
    "learning_rate = 0.8\n",
    "epochs = 2000\n",
    "losses = []"
   ]
  },
  {
   "cell_type": "code",
   "execution_count": 12,
   "id": "1d4618d7-c0da-4aab-8f82-4a8ba97f1395",
   "metadata": {},
   "outputs": [],
   "source": [
    "# Gradient Descent\n",
    "for epoch in range(epochs):\n",
    "    hidden_layer_input = n.dot(X, weights_hidden) + bias_hidden\n",
    "    hidden_layer_output = sigmoid(hidden_layer_input)\n",
    "    output_layer_input = n.dot(hidden_layer_output, weights_output) + bias_output\n",
    "    output_layer_output = sigmoid(output_layer_input)\n",
    "\n",
    "    loss = binary_cross_entropy(Y, output_layer_output).mean()\n",
    "    losses.append(loss)\n",
    "\n",
    "    d_output_layer_output = output_layer_output - Y\n",
    "    d_output_layer_input = d_output_layer_output * sigmoid_derivative(output_layer_output)\n",
    "    d_weights_output = n.dot(hidden_layer_output.T, d_output_layer_input)\n",
    "    d_bias_output = n.sum(d_output_layer_input, axis=0)\n",
    "\n",
    "    d_hidden_layer_output = n.dot(d_output_layer_input, weights_output.T)\n",
    "    d_hidden_layer_input = d_hidden_layer_output * sigmoid_derivative(hidden_layer_output)\n",
    "    d_weights_hidden = n.dot(X.T, d_hidden_layer_input)\n",
    "    d_bias_hidden = n.sum(d_hidden_layer_input, axis=0)  \n",
    "\n",
    "    weights_output -= learning_rate * d_weights_output\n",
    "    bias_output -= learning_rate * d_bias_output\n",
    "    weights_hidden -= learning_rate * d_weights_hidden\n",
    "    bias_hidden -= learning_rate * d_bias_hidden"
   ]
  },
  {
   "cell_type": "code",
   "execution_count": 19,
   "id": "4a1ffb28-ebfd-4a51-8bba-75a5afbd6466",
   "metadata": {},
   "outputs": [
    {
     "data": {
      "image/png": "[encoded data removed]",
      "text/plain": [
       "<Figure size 600x400 with 1 Axes>"
      ]
     },
     "metadata": {},
     "output_type": "display_data"
    }
   ],
   "source": [
    "# Plot the loss over epochs\n",
    "plt.figure(figsize=(6, 4))\n",
    "\n",
    "plt.plot(losses)\n",
    "plt.xlabel('epoch')\n",
    "plt.ylabel('loss')\n",
    "\n",
    "plt.xlim([0, 2000])\n",
    "plt.ylim([0, .8])\n",
    "\n",
    "plt.show()"
   ]
  },
  {
   "cell_type": "code",
   "execution_count": 15,
   "id": "0a0d1612-23b2-47ab-b0e0-92a975fec8fd",
   "metadata": {},
   "outputs": [],
   "source": [
    "# Predictions after training\n",
    "def predict(x):\n",
    "    hidden_layer_input = n.dot(x, weights_hidden) + bias_hidden\n",
    "    hidden_layer_output = sigmoid(hidden_layer_input)\n",
    "    output_layer_input = n.dot(hidden_layer_output, weights_output) + bias_output\n",
    "    output_layer_output = sigmoid(output_layer_input)\n",
    "    return output_layer_output"
   ]
  },
  {
   "cell_type": "code",
   "execution_count": 20,
   "id": "d7fbcfcd-4558-4e29-9eb6-1f2a2bb4b83f",
   "metadata": {},
   "outputs": [
    {
     "name": "stdout",
     "output_type": "stream",
     "text": [
      "Predicted Outputs:\n",
      " [[0.05079207]\n",
      " [0.95417259]\n",
      " [0.95794007]\n",
      " [0.04554936]]\n",
      "Actual Outputs:\n",
      " [[0]\n",
      " [1]\n",
      " [1]\n",
      " [0]]\n"
     ]
    }
   ],
   "source": [
    "# Predictions outputs\n",
    "y_hat = predict(X)\n",
    "print(\"Predicted Outputs:\\n\", y_hat)\n",
    "print(\"Actual Outputs:\\n\", Y)"
   ]
  },
  {
   "cell_type": "code",
   "execution_count": null,
   "id": "86ca640c-6438-454a-ba79-5dbc4fe0c729",
   "metadata": {},
   "outputs": [],
   "source": []
  }
 ],
 "metadata": {
  "kernelspec": {
   "display_name": "Python 3 (ipykernel)",
   "language": "python",
   "name": "python3"
  },
  "language_info": {
   "codemirror_mode": {
    "name": "ipython",
    "version": 3
   },
   "file_extension": ".py",
   "mimetype": "text/x-python",
   "name": "python",
   "nbconvert_exporter": "python",
   "pygments_lexer": "ipython3",
   "version": "3.11.9"
  }
 },
 "nbformat": 4,
 "nbformat_minor": 5
}
